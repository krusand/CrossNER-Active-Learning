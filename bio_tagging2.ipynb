{
 "cells": [
  {
   "cell_type": "code",
   "execution_count": 25,
   "metadata": {},
   "outputs": [],
   "source": [
    "import pandas as pd\n",
    "train = pd.read_parquet(\"data/train.parquet\")\n",
    "dev = pd.read_parquet(\"data/dev.parquet\")\n",
    "test = pd.read_parquet(\"data/test.parquet\")"
   ]
  },
  {
   "cell_type": "code",
   "execution_count": 26,
   "metadata": {},
   "outputs": [
    {
     "name": "stdout",
     "output_type": "stream",
     "text": [
      "Bredskiftevej FACILITY\n",
      "16 CARDINAL\n",
      "8210 CARDINAL\n",
      "Aarhus V LOCATION\n"
     ]
    }
   ],
   "source": [
    "\n",
    "def print_ents(row):\n",
    "    ents = row[\"ents\"]\n",
    "    text = row[\"text\"]\n",
    "    for ent in ents:\n",
    "        start_ent = ent[\"start\"]\n",
    "        end_ent = ent[\"end\"]\n",
    "        print(text[start_ent:end_ent], ent[\"label\"])\n",
    "        \n",
    "\n",
    "print_ents(train.iloc[128])"
   ]
  },
  {
   "cell_type": "code",
   "execution_count": 62,
   "metadata": {},
   "outputs": [
    {
     "name": "stdout",
     "output_type": "stream",
     "text": [
      "Nævnet : B-ORGANIZATION\n",
      "pålagde : \n",
      "bladet : \n",
      "at : \n"
     ]
    }
   ],
   "source": [
    "def print_token_ents(row):\n",
    "    tokens, ents, text = row[\"tokens\"], row[\"ents\"], row[\"text\"]\n",
    "\n",
    "    for token in tokens:\n",
    "        token_start, token_end = token[\"start\"], token[\"end\"]\n",
    "        token_txt = text[token_start:token_end]\n",
    "        print(token_txt, end=\" : \")\n",
    "        for ent in ents:\n",
    "            ent_start = ent[\"start\"]\n",
    "            ent_end = ent[\"end\"]\n",
    "            ent_label = ent[\"label\"]\n",
    "            if token_start == ent_start:\n",
    "                print('B-' + ent_label, end=\"\")\n",
    "            elif token_start > ent_start and token_end <= ent_end:\n",
    "                print('I-' + ent_label, end=\"\")\n",
    "        print()\n",
    "    \n",
    "\n",
    "print_token_ents(train.iloc[20])"
   ]
  }
 ],
 "metadata": {
  "kernelspec": {
   "display_name": "base",
   "language": "python",
   "name": "python3"
  },
  "language_info": {
   "codemirror_mode": {
    "name": "ipython",
    "version": 3
   },
   "file_extension": ".py",
   "mimetype": "text/x-python",
   "name": "python",
   "nbconvert_exporter": "python",
   "pygments_lexer": "ipython3",
   "version": "3.11.6"
  }
 },
 "nbformat": 4,
 "nbformat_minor": 2
}
