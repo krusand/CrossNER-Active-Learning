{
 "cells": [
  {
   "cell_type": "code",
   "execution_count": 1,
   "metadata": {},
   "outputs": [
    {
     "name": "stderr",
     "output_type": "stream",
     "text": [
      "/Users/joke/anaconda3/envs/NLP2024/lib/python3.10/site-packages/tqdm/auto.py:21: TqdmWarning: IProgress not found. Please update jupyter and ipywidgets. See https://ipywidgets.readthedocs.io/en/stable/user_install.html\n",
      "  from .autonotebook import tqdm as notebook_tqdm\n"
     ]
    },
    {
     "name": "stdout",
     "output_type": "stream",
     "text": [
      "Imports loaded\n"
     ]
    }
   ],
   "source": [
    "import torch\n",
    "import torch.nn as nn\n",
    "from torch.utils.data import DataLoader, SubsetRandomSampler\n",
    "\n",
    "import os\n",
    "\n",
    "import pandas as pd\n",
    "import numpy as np\n",
    "import random\n",
    "from tqdm import tqdm\n",
    "\n",
    "from model import BertForTokenClassification\n",
    "import utils.NERutils as nu\n",
    "\n",
    "from transformers import AutoConfig, AutoTokenizer\n",
    "\n",
    "print(\"Imports loaded\")\n",
    "\n",
    "\n",
    "N_EPOCHS = 3\n",
    "LEARNING_RATE = 1e-05\n",
    "BATCH_SIZE = 10\n",
    "\n",
    "# Define tokenizer\n",
    "bert_model_name = \"bert-base-multilingual-cased\"\n",
    "bert_tokenizer = AutoTokenizer.from_pretrained(bert_model_name)\n",
    "\n",
    "softmax = nn.Softmax()\n",
    "\n",
    "train_path = \"data/BIOtrain.parquet\"\n",
    "dev_path = \"data/BIOdev.parquet\"\n",
    "test_path = \"data/BIOtest.parquet\"\n",
    "\n",
    "\n",
    "\n",
    "filters = [ 'Conversation',\n",
    "            'Legal',\n",
    "            'News',\n",
    "            'Social Media',\n",
    "            'Web',\n",
    "            'Wiki & Books',]\n",
    "\n",
    "filter = filters[0]"
   ]
  },
  {
   "cell_type": "code",
   "execution_count": 2,
   "metadata": {},
   "outputs": [
    {
     "name": "stderr",
     "output_type": "stream",
     "text": [
      "Some weights of BertForTokenClassification were not initialized from the model checkpoint at bert-base-multilingual-cased and are newly initialized: ['classifier.bias', 'classifier.weight']\n",
      "You should probably TRAIN this model on a down-stream task to be able to use it for predictions and inference.\n"
     ]
    },
    {
     "name": "stdout",
     "output_type": "stream",
     "text": [
      "Loaded Model\n"
     ]
    }
   ],
   "source": [
    "train_dataset = nu.NERdataset(dataset_path=train_path, tokenizer=bert_tokenizer, filter=filter)\n",
    "dev_dataset = nu.NERdataset(dataset_path=dev_path, tokenizer=bert_tokenizer)\n",
    "test_dataset = nu.NERdataset(dataset_path=test_path, tokenizer=bert_tokenizer, filter=filter)\n",
    "\n",
    "\n",
    "train_loader = DataLoader(train_dataset, batch_size=BATCH_SIZE, shuffle=False, num_workers=0, sampler= SubsetRandomSampler(range(100)))\n",
    "dev_loader = DataLoader(dev_dataset, batch_size=BATCH_SIZE, shuffle=False, num_workers=0)\n",
    "test_loader = DataLoader(test_dataset, batch_size=BATCH_SIZE, shuffle=False, num_workers=0)\n",
    "\n",
    "if torch.backends.mps.is_available():\n",
    "    device = torch.device(\"mps\")\n",
    "elif torch.cuda.is_available():\n",
    "    device = torch.device(\"cuda\")\n",
    "else:\n",
    "    device = torch.device(\"cpu\")\n",
    "\n",
    "\n",
    "# Config\n",
    "bert_model_name = \"bert-base-multilingual-cased\"\n",
    "bert_config = AutoConfig.from_pretrained(\n",
    "    bert_model_name, \n",
    "    num_labels=len(train_dataset.tags), \n",
    "    id2label=train_dataset.index2tag, \n",
    "    label2id=train_dataset.tag2index\n",
    ")\n",
    "\n",
    "model = BertForTokenClassification.from_pretrained(bert_model_name, config=bert_config, tags=train_dataset.tags, verbose=True).to(device)\n",
    "print(\"Loaded Model\")"
   ]
  },
  {
   "cell_type": "code",
   "execution_count": 3,
   "metadata": {},
   "outputs": [],
   "source": [
    "def toSpans(tags):\n",
    "    spans = set()\n",
    "    for beg in range(len(tags)):\n",
    "        if tags[beg][0] == 'B':\n",
    "            end = beg\n",
    "            for end in range(beg+1, len(tags)):\n",
    "                if tags[beg][0] != 'I':\n",
    "                    break\n",
    "            spans.add(str(beg) + '-' + str(end) + ':' + tags[beg][2:])\n",
    "    return spans"
   ]
  },
  {
   "cell_type": "code",
   "execution_count": 4,
   "metadata": {},
   "outputs": [],
   "source": [
    "def getF1ScoreFromLists(golds:list, preds: list):\n",
    "    tp = 0\n",
    "    fp = 0\n",
    "    fn = 0\n",
    "    for goldEnt, predEnt in zip(golds, preds):\n",
    "        goldSpans = toSpans(goldEnt)\n",
    "        predSpans = toSpans(predEnt)\n",
    "        overlap = len(goldSpans.intersection(predSpans))\n",
    "        tp += overlap\n",
    "        fp += len(predSpans) - overlap\n",
    "        fn += len(goldSpans) - overlap\n",
    "        \n",
    "    prec = 0.0 if tp+fp == 0 else tp/(tp+fp)\n",
    "    rec = 0.0 if tp+fn == 0 else tp/(tp+fn)\n",
    "    f1 = 0.0 if prec+rec == 0.0 else 2 * (prec * rec) / (prec + rec)\n",
    "    return f1"
   ]
  },
  {
   "cell_type": "code",
   "execution_count": 5,
   "metadata": {},
   "outputs": [],
   "source": [
    "def get_score_tuples(token_ids, sentence_ids, mask, target, logits):\n",
    "    res = []\n",
    "    for token_ids, sentence_id, mask, target, logits in zip(token_ids, sentence_ids, mask, target, logits):\n",
    "            for word_idx, (token, mask, target, logits) in enumerate(zip(token_ids, mask, target, logits)):\n",
    "                if mask:\n",
    "                    # print(torch.argmax(logits).item() == target.item())\n",
    "                    # print(sentence_id.cpu().item(), word_idx, softmax(logits)[target].cpu().item())\n",
    "                    res.append({\n",
    "                        \"SentenceID\" : sentence_id.cpu().item(),\n",
    "                        \"WordIndex\" : word_idx,\n",
    "                        \"Word\" : token.item(),\n",
    "                        \"Target\" : target.item(),\n",
    "                        \"Correct\" : int(torch.argmax(logits).item() == target.item()),\n",
    "                        \"Confidence\" : softmax(logits)[target].cpu().item(),\n",
    "                    })\n",
    "    return res"
   ]
  },
  {
   "cell_type": "code",
   "execution_count": 6,
   "metadata": {},
   "outputs": [],
   "source": [
    "def train_loop(model, data_loader, device, optimizer):\n",
    "    model.train()\n",
    "\n",
    "    # Initialize parameters for calculating training loss and accuracy\n",
    "    num_batches = len(data_loader)\n",
    "    size = len(data_loader.dataset)\n",
    "    epoch_loss, correct = 0, 0\n",
    "\n",
    "    for idx, batch in enumerate(data_loader):\n",
    "        ids = batch[\"input_ids\"].to(device, dtype=torch.long)\n",
    "        mask = batch[\"attention_mask\"].to(device, dtype=torch.long)\n",
    "        targets = batch[\"labels\"].to(device, dtype=torch.long)\n",
    "        \n",
    "        outputs = model.forward(input_ids = ids,\n",
    "                        attention_mask = mask,\n",
    "                        labels = targets)\n",
    "        \n",
    "        loss, tr_logits = outputs.loss, outputs.logits\n",
    "\n",
    "\n",
    "        # Flatten targets and predictions\n",
    "        flattened_targets = targets.view(-1) # shape (batch_size * seq_len,)\n",
    "        active_logits = tr_logits.view(-1, model.num_labels) # shape (batch_size * seq_len, num_labels)\n",
    "        flattened_predictions = torch.argmax(active_logits, axis=1) # shape (batch_size * seq_len,)\n",
    "        \n",
    "        # Mask predictions and targets (includes [CLS] and [SEP] token predictions)\n",
    "        active_accuracy = mask.view(-1) == 1 # active accuracy is also of shape (batch_size * seq_len,)\n",
    "        masked_targets = torch.masked_select(flattened_targets, active_accuracy)\n",
    "        predictions = torch.masked_select(flattened_predictions, active_accuracy)\n",
    "\n",
    "        # Backpropagation\n",
    "        optimizer.zero_grad()\n",
    "        loss.backward()\n",
    "        optimizer.step()\n",
    "\n",
    "        # Calculate train loss and accuracy\n",
    "        epoch_loss += loss.item()\n",
    "        correct += (masked_targets == predictions).type(torch.float).sum().item()\n",
    "    \n",
    "    # Caluclate training loss and accuracy for the current epoch\n",
    "    train_loss = epoch_loss/num_batches\n",
    "    train_acc = correct/size\n",
    "    \n",
    "    # Save loss and accuracy to history\n",
    "    # self.training_loss.append(train_loss)\n",
    "    # self.training_acc.append(train_acc)"
   ]
  },
  {
   "cell_type": "code",
   "execution_count": 7,
   "metadata": {},
   "outputs": [],
   "source": [
    "def val_loop(model, data_loader, device):\n",
    "    model.eval()\n",
    "    epoch_scores = []\n",
    "\n",
    "\n",
    "    # Initialize parameters for calculating training loss and accuracy\n",
    "    num_batches = len(data_loader)\n",
    "    size = len(data_loader.dataset)\n",
    "    epoch_loss, correct = 0, 0\n",
    "\n",
    "    with torch.no_grad():\n",
    "        for idx, batch in enumerate(data_loader):\n",
    "            \n",
    "            ids = batch[\"input_ids\"].to(device, dtype=torch.long)\n",
    "            mask = batch[\"attention_mask\"].to(device, dtype=torch.long)\n",
    "            targets = batch[\"labels\"].to(device, dtype=torch.long)\n",
    "            \n",
    "            outputs = model.forward(input_ids = ids,\n",
    "                            attention_mask = mask,\n",
    "                            labels = targets)\n",
    "            \n",
    "            # Save validation loss\n",
    "            loss, tr_logits = outputs.loss, outputs.logits\n",
    "\n",
    "            # Save scores with eval mode\n",
    "            outputs = model.forward(input_ids = ids,\n",
    "                                attention_mask = mask,\n",
    "                                labels = targets)\n",
    "                \n",
    "            loss, tr_logits = outputs.loss, outputs.logits\n",
    "            epoch_scores.extend(get_score_tuples(ids, batch[\"index\"], mask, targets, tr_logits))\n",
    "\n",
    "\n",
    "            # Flatten targets and predictions\n",
    "            flattened_targets = targets.view(-1) # shape (batch_size * seq_len,)\n",
    "            active_logits = tr_logits.view(-1, model.num_labels) # shape (batch_size * seq_len, num_labels)\n",
    "            flattened_predictions = torch.argmax(active_logits, axis=1) # shape (batch_size * seq_len,)\n",
    "            \n",
    "            # Mask predictions and targets (includes [CLS] and [SEP] token predictions)\n",
    "            active_accuracy = mask.view(-1) == 1 # active accuracy is also of shape (batch_size * seq_len,)\n",
    "            targets = torch.masked_select(flattened_targets, active_accuracy)\n",
    "            predictions = torch.masked_select(flattened_predictions, active_accuracy)\n",
    "    \n",
    "            # Calculate train loss and accuracy\n",
    "            epoch_loss += loss.item()\n",
    "            correct += (targets == predictions).type(torch.float).sum().item()\n",
    "    \n",
    "    # Caluclate training loss and accuracy for the current epoch\n",
    "    val_loss = epoch_loss/num_batches\n",
    "    val_acc = correct/size\n",
    "    \n",
    "    # Save loss and accuracy to history\n",
    "    model.validation_loss.append(val_loss)\n",
    "    model.validation_acc.append(val_acc)\n",
    "    return pd.DataFrame(epoch_scores)"
   ]
  },
  {
   "cell_type": "code",
   "execution_count": 8,
   "metadata": {},
   "outputs": [
    {
     "name": "stderr",
     "output_type": "stream",
     "text": [
      "huggingface/tokenizers: The current process just got forked, after parallelism has already been used. Disabling parallelism to avoid deadlocks...\n",
      "To disable this warning, you can either:\n",
      "\t- Avoid using `tokenizers` before the fork if possible\n",
      "  0%|          | 0/3 [00:00<?, ?it/s]=(true | false)S_PARALLELISM\n"
     ]
    },
    {
     "name": "stdout",
     "output_type": "stream",
     "text": [
      "Epoch 1 of 3 epochs\n",
      "Train\n"
     ]
    },
    {
     "name": "stderr",
     "output_type": "stream",
     "text": [
      "/Users/joke/anaconda3/envs/NLP2024/lib/python3.10/site-packages/torch/nn/modules/module.py:1511: UserWarning: Implicit dimension choice for softmax has been deprecated. Change the call to include dim=X as an argument.\n",
      "  return self._call_impl(*args, **kwargs)\n",
      " 33%|███▎      | 1/3 [00:33<01:07, 33.64s/it]"
     ]
    },
    {
     "name": "stdout",
     "output_type": "stream",
     "text": [
      "Epoch 2 of 3 epochs\n",
      "Train\n"
     ]
    },
    {
     "name": "stderr",
     "output_type": "stream",
     "text": [
      " 67%|██████▋   | 2/3 [01:07<00:33, 33.52s/it]"
     ]
    },
    {
     "name": "stdout",
     "output_type": "stream",
     "text": [
      "Epoch 3 of 3 epochs\n",
      "Train\n"
     ]
    },
    {
     "name": "stderr",
     "output_type": "stream",
     "text": [
      "100%|██████████| 3/3 [01:41<00:00, 33.86s/it]"
     ]
    },
    {
     "name": "stdout",
     "output_type": "stream",
     "text": [
      "Done!\n"
     ]
    },
    {
     "name": "stderr",
     "output_type": "stream",
     "text": [
      "\n"
     ]
    }
   ],
   "source": [
    "optimizer=torch.optim.Adam(params=model.parameters(),)\n",
    "correct_list = []\n",
    "confidence_list = []\n",
    "\n",
    "# for epoch in tqdm(range(N_EPOCHS)):\n",
    "#     train_loop(model, train_loader, device, optimizer)\n",
    "\n",
    "\n",
    "for epoch in tqdm(range(N_EPOCHS)):\n",
    "\n",
    "    print(f\"Epoch {epoch+1} of {N_EPOCHS} epochs\")\n",
    "    \n",
    "    print(\"Train\")\n",
    "    train_loop(model, train_loader, device, optimizer)\n",
    "    epoch_df = val_loop(model, train_loader, device)\n",
    "    epoch_df.sort_values(by = [\"SentenceID\",  \"WordIndex\"])\n",
    "\n",
    "    correct_list.append(epoch_df[\"Correct\"])\n",
    "    confidence_list.append(epoch_df[\"Confidence\"])\n",
    "\n",
    "print(\"Done!\")"
   ]
  },
  {
   "cell_type": "code",
   "execution_count": 10,
   "metadata": {},
   "outputs": [],
   "source": [
    "correct = np.array(correct_list).sum(axis = 0) / N_EPOCHS\n",
    "\n",
    "confidence_list = np.array(confidence_list)\n",
    "confidence_list[np.isnan(confidence_list)] = 0\n",
    "\n",
    "confidence_var = np.array(confidence_list).var(axis = 0)\n",
    "confidence_avg = np.array(confidence_list).mean(axis = 0)\n",
    "\n",
    "tokens = bert_tokenizer.convert_ids_to_tokens(epoch_df[\"Word\"])\n",
    "# print(tokens)\n",
    "\n",
    "df = epoch_df\n",
    "df[\"Tokens\"] = tokens\n",
    "df[\"Correct\"] = correct\n",
    "df[\"Confidence\"] = confidence_avg\n",
    "df[\"Variation\"] = confidence_var\n",
    "\n",
    "df[\"Domain\"] = filter\n",
    "# df.to_csv(f\"datamap/test/{filter}.csv\")"
   ]
  },
  {
   "cell_type": "code",
   "execution_count": 11,
   "metadata": {},
   "outputs": [],
   "source": [
    "import seaborn as sns"
   ]
  },
  {
   "cell_type": "code",
   "execution_count": 18,
   "metadata": {},
   "outputs": [],
   "source": [
    "df_tags = df[df[\"Target\"] != 0]"
   ]
  },
  {
   "cell_type": "code",
   "execution_count": 19,
   "metadata": {},
   "outputs": [
    {
     "data": {
      "text/plain": [
       "<Axes: xlabel='Variation', ylabel='Confidence'>"
      ]
     },
     "execution_count": 19,
     "metadata": {},
     "output_type": "execute_result"
    },
    {
     "data": {
      "image/png": "[encoded data removed]",
      "text/plain": [
       "<Figure size 640x480 with 1 Axes>"
      ]
     },
     "metadata": {},
     "output_type": "display_data"
    }
   ],
   "source": [
    "sns.scatterplot(df_tags, x = \"Variation\", y = \"Confidence\", hue = \"Correct\")"
   ]
  }
 ],
 "metadata": {
  "kernelspec": {
   "display_name": "NLP2024",
   "language": "python",
   "name": "python3"
  },
  "language_info": {
   "codemirror_mode": {
    "name": "ipython",
    "version": 3
   },
   "file_extension": ".py",
   "mimetype": "text/x-python",
   "name": "python",
   "nbconvert_exporter": "python",
   "pygments_lexer": "ipython3",
   "version": "3.10.13"
  }
 },
 "nbformat": 4,
 "nbformat_minor": 2
}
