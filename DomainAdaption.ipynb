{
 "cells": [
  {
   "cell_type": "code",
   "execution_count": 1,
   "metadata": {},
   "outputs": [],
   "source": [
    "import torch\n",
    "import torch.nn as nn\n",
    "\n",
    "import pandas as pd\n",
    "import numpy as np\n",
    "import random\n",
    "\n",
    "from model_new import BertForTokenClassification\n",
    "import utils.NERutils as nu\n",
    "import utils.query_funcs as q\n",
    "\n",
    "from transformers import AutoConfig, AutoTokenizer\n",
    "\n",
    "from torch.utils.data import DataLoader, SubsetRandomSampler\n"
   ]
  },
  {
   "cell_type": "markdown",
   "metadata": {},
   "source": [
    "### Link for inspiration"
   ]
  },
  {
   "cell_type": "markdown",
   "metadata": {},
   "source": [
    "https://www.scaleway.com/en/blog/active-learning-pytorch/"
   ]
  },
  {
   "cell_type": "code",
   "execution_count": 2,
   "metadata": {},
   "outputs": [],
   "source": [
    "# Define tokenizer\n",
    "bert_model_name = \"bert-base-multilingual-cased\"\n",
    "bert_tokenizer = AutoTokenizer.from_pretrained(bert_model_name)"
   ]
  },
  {
   "cell_type": "markdown",
   "metadata": {},
   "source": [
    "#### Load datasets"
   ]
  },
  {
   "cell_type": "code",
   "execution_count": 3,
   "metadata": {},
   "outputs": [],
   "source": [
    "train_path = \"data/train.parquet\"\n",
    "dev_path = \"data/dev.parquet\"\n",
    "test_path = \"data/test.parquet\""
   ]
  },
  {
   "cell_type": "code",
   "execution_count": 4,
   "metadata": {},
   "outputs": [],
   "source": [
    "filter = 'Legal'"
   ]
  },
  {
   "cell_type": "code",
   "execution_count": 5,
   "metadata": {},
   "outputs": [],
   "source": [
    "train_dataset = nu.NERdataset(dataset_path=train_path, tokenizer=bert_tokenizer, filter=filter)\n",
    "#dev_dataset = nu.NERdataset(dataset_path=dev_path, tokenizer=bert_tokenizer)\n",
    "test_dataset = nu.NERdataset(dataset_path=test_path, tokenizer=bert_tokenizer, filter=filter)"
   ]
  },
  {
   "cell_type": "code",
   "execution_count": 6,
   "metadata": {},
   "outputs": [],
   "source": [
    "test_loader = DataLoader(test_dataset, batch_size=32, shuffle=False, num_workers=0)"
   ]
  },
  {
   "cell_type": "markdown",
   "metadata": {},
   "source": [
    "#### Get pretrained model"
   ]
  },
  {
   "cell_type": "code",
   "execution_count": 7,
   "metadata": {},
   "outputs": [],
   "source": [
    "if torch.backends.mps.is_available():\n",
    "    device = torch.device(\"mps\")\n",
    "elif torch.cuda.is_available():\n",
    "    device = torch.device(\"cuda\")\n",
    "else:\n",
    "    device = torch.device(\"cpu\")"
   ]
  },
  {
   "cell_type": "code",
   "execution_count": 8,
   "metadata": {},
   "outputs": [
    {
     "name": "stderr",
     "output_type": "stream",
     "text": [
      "Some weights of BertForTokenClassification were not initialized from the model checkpoint at bert-base-multilingual-cased and are newly initialized: ['classifier.bias', 'classifier.weight']\n",
      "You should probably TRAIN this model on a down-stream task to be able to use it for predictions and inference.\n"
     ]
    }
   ],
   "source": [
    "# Config\n",
    "bert_model_name = \"bert-base-multilingual-cased\"\n",
    "bert_config = AutoConfig.from_pretrained(\n",
    "    bert_model_name, \n",
    "    num_labels=len(train_dataset.tags), \n",
    "    id2label=train_dataset.index2tag, \n",
    "    label2id=train_dataset.tag2index\n",
    ")\n",
    "\n",
    "model = BertForTokenClassification.from_pretrained(bert_model_name, config=bert_config, tags=train_dataset.tags).to(device)"
   ]
  },
  {
   "cell_type": "code",
   "execution_count": 9,
   "metadata": {},
   "outputs": [
    {
     "data": {
      "text/plain": [
       "<All keys matched successfully>"
      ]
     },
     "execution_count": 9,
     "metadata": {},
     "output_type": "execute_result"
    }
   ],
   "source": [
    "# Load model\n",
    "model.load_state_dict(torch.load(\"test_model\", map_location=device))"
   ]
  },
  {
   "cell_type": "markdown",
   "metadata": {},
   "source": [
    "### Active learning"
   ]
  },
  {
   "cell_type": "code",
   "execution_count": 10,
   "metadata": {},
   "outputs": [],
   "source": [
    "def random_query(data_loader, query_size=10):\n",
    "\n",
    "    sample_idx = []\n",
    "\n",
    "    for batch in data_loader:\n",
    "\n",
    "        _, _, idx = batch\n",
    "        sample_idx.extend(idx.tolist())\n",
    "\n",
    "        if len(sample_idx) >= query_size:\n",
    "            break\n",
    "        \n",
    "    return sample_idx[0:query_size]"
   ]
  },
  {
   "cell_type": "code",
   "execution_count": 19,
   "metadata": {},
   "outputs": [],
   "source": [
    "def query_the_oracle(model, device, dataset, query_size=10, query_strategy='random', \n",
    "                     interactive=True, pool_size=0, batch_size=16, num_workers=0):\n",
    "    \n",
    "    unlabeled_idx = np.nonzero(dataset.unlabeled_mask)[0]\n",
    "\n",
    "    # Pool based sampeling\n",
    "    if pool_size > 0:\n",
    "        pool_idx = random.sample(range(1, len(unlabeled_idx)), pool_size)\n",
    "        pool_loader = DataLoader(dataset, batcg_size=batch_size, num_workers=num_workers,\n",
    "                                 sampler=SubsetRandomSampler(unlabeled_idx[pool_idx]))\n",
    "    else:\n",
    "        pool_loader = DataLoader(dataset, batch_size=batch_size, num_workers=num_workers,\n",
    "                                 sampler=SubsetRandomSampler(unlabeled_idx))\n",
    "    \n",
    "    # Strategies\n",
    "    if query_strategy == 'margin':\n",
    "        #sample_idx = margin_query(model, device, pool_loader, query_size)\n",
    "        print(\"Method not implemented yet\")\n",
    "        return\n",
    "    else:\n",
    "        sample_idx = q.random_query(pool_loader, query_size)\n",
    "    \n",
    "    # Move observation to the pool of labeled samples\n",
    "    for sample in sample_idx:\n",
    "        dataset.unlabeled_mask[sample] = 0"
   ]
  },
  {
   "cell_type": "markdown",
   "metadata": {},
   "source": [
    "#### Active learning loop "
   ]
  },
  {
   "cell_type": "code",
   "execution_count": 22,
   "metadata": {},
   "outputs": [
    {
     "name": "stdout",
     "output_type": "stream",
     "text": [
      "Fitting\n"
     ]
    },
    {
     "name": "stderr",
     "output_type": "stream",
     "text": [
      "  0%|          | 0/2 [00:00<?, ?it/s]"
     ]
    },
    {
     "name": "stdout",
     "output_type": "stream",
     "text": [
      "0\n"
     ]
    },
    {
     "ename": "",
     "evalue": "",
     "output_type": "error",
     "traceback": [
      "\u001b[1;31mThe Kernel crashed while executing code in the current cell or a previous cell. \n",
      "\u001b[1;31mPlease review the code in the cell(s) to identify a possible cause of the failure. \n",
      "\u001b[1;31mClick <a href='https://aka.ms/vscodeJupyterKernelCrash'>here</a> for more info. \n",
      "\u001b[1;31mView Jupyter <a href='command:jupyter.viewOutput'>log</a> for further details."
     ]
    }
   ],
   "source": [
    "num_queries = 10\n",
    "batch_size = 16\n",
    "query_size = 5\n",
    "query_strategy='random'\n",
    "pool_size=10\n",
    "\n",
    "num_epochs = 1\n",
    "learning_rate = 1e-05\n",
    "optimizer = torch.optim.Adam(params=model.parameters(), lr=learning_rate)\n",
    "\n",
    "for query in range(num_queries):\n",
    "\n",
    "    query_the_oracle(model, device, train_dataset, query_size, query_strategy, pool_size)\n",
    "\n",
    "    labeled_idx = np.where(train_dataset.unlabeled_mask == 0)[0]\n",
    "    labeled_loader = DataLoader(train_dataset, batch_size=batch_size, num_workers=0, sampler=SubsetRandomSampler(labeled_idx))\n",
    "\n",
    "    # train model\n",
    "    previous_test_acc = 0\n",
    "    current_test_acc = 1\n",
    "    while current_test_acc > previous_test_acc:\n",
    "        previous_test_acc = current_test_acc\n",
    "        print(\"Fitting\")\n",
    "        model.fit(num_epochs, labeled_loader, device, optimizer)\n",
    "        print(\"Testing\")\n",
    "        model.test(test_loader, device)\n",
    "        \n",
    "        train_loss = model.train_loss[-1]\n",
    "        val_acc = model.train_acc[-1]\n",
    "        print(train_loss)\n",
    "        print(val_acc)\n",
    "\n",
    "    # test model"
   ]
  },
  {
   "cell_type": "code",
   "execution_count": null,
   "metadata": {},
   "outputs": [],
   "source": []
  }
 ],
 "metadata": {
  "kernelspec": {
   "display_name": "Python 3",
   "language": "python",
   "name": "python3"
  },
  "language_info": {
   "codemirror_mode": {
    "name": "ipython",
    "version": 3
   },
   "file_extension": ".py",
   "mimetype": "text/x-python",
   "name": "python",
   "nbconvert_exporter": "python",
   "pygments_lexer": "ipython3",
   "version": "3.11.9"
  }
 },
 "nbformat": 4,
 "nbformat_minor": 2
}
