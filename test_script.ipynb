{
 "cells": [
  {
   "cell_type": "code",
   "execution_count": 1,
   "metadata": {},
   "outputs": [
    {
     "name": "stderr",
     "output_type": "stream",
     "text": [
      "c:\\Users\\sebas\\AppData\\Local\\Programs\\Python\\Python311\\Lib\\site-packages\\tqdm\\auto.py:21: TqdmWarning: IProgress not found. Please update jupyter and ipywidgets. See https://ipywidgets.readthedocs.io/en/stable/user_install.html\n",
      "  from .autonotebook import tqdm as notebook_tqdm\n"
     ]
    }
   ],
   "source": [
    "import pandas as pd\n",
    "from transformers import AutoTokenizer"
   ]
  },
  {
   "cell_type": "code",
   "execution_count": 2,
   "metadata": {},
   "outputs": [],
   "source": [
    "bert_model_name = \"bert-base-multilingual-cased\"\n",
    "bert_tokenizer = AutoTokenizer.from_pretrained(bert_model_name)"
   ]
  },
  {
   "cell_type": "code",
   "execution_count": 3,
   "metadata": {},
   "outputs": [],
   "source": [
    "train = pd.read_parquet(\"data/train-00000-of-00001.parquet\")\n",
    "dev = pd.read_parquet(\"data/dev-00000-of-00001.parquet\")\n",
    "test = pd.read_parquet(\"data/test-00000-of-00001.parquet\")"
   ]
  },
  {
   "cell_type": "code",
   "execution_count": 4,
   "metadata": {},
   "outputs": [
    {
     "data": {
      "text/html": [
       "<div>\n",
       "<style scoped>\n",
       "    .dataframe tbody tr th:only-of-type {\n",
       "        vertical-align: middle;\n",
       "    }\n",
       "\n",
       "    .dataframe tbody tr th {\n",
       "        vertical-align: top;\n",
       "    }\n",
       "\n",
       "    .dataframe thead th {\n",
       "        text-align: right;\n",
       "    }\n",
       "</style>\n",
       "<table border=\"1\" class=\"dataframe\">\n",
       "  <thead>\n",
       "    <tr style=\"text-align: right;\">\n",
       "      <th></th>\n",
       "      <th>text</th>\n",
       "      <th>ents</th>\n",
       "      <th>sents</th>\n",
       "      <th>tokens</th>\n",
       "      <th>spans</th>\n",
       "      <th>dagw_source</th>\n",
       "      <th>dagw_domain</th>\n",
       "      <th>dagw_source_full</th>\n",
       "    </tr>\n",
       "  </thead>\n",
       "  <tbody>\n",
       "    <tr>\n",
       "      <th>0</th>\n",
       "      <td>Danmark skal bygges af maskinernes forsigtige ...</td>\n",
       "      <td>[{'start': 0, 'end': 7, 'label': 'GPE'}]</td>\n",
       "      <td>[{'start': 0, 'end': 60}]</td>\n",
       "      <td>[{'id': 0, 'start': 0, 'end': 7}, {'id': 1, 's...</td>\n",
       "      <td>{'incorrect_spans': []}</td>\n",
       "      <td>danavis</td>\n",
       "      <td>News</td>\n",
       "      <td>Danish daily newspapers</td>\n",
       "    </tr>\n",
       "    <tr>\n",
       "      <th>1</th>\n",
       "      <td>Hvil i Cap Dag - 2011 år Cap D'Agde Privat bil...</td>\n",
       "      <td>[{'start': 17, 'end': 21, 'label': 'DATE'}, {'...</td>\n",
       "      <td>[{'start': 0, 'end': 79}]</td>\n",
       "      <td>[{'id': 0, 'start': 0, 'end': 4}, {'id': 1, 's...</td>\n",
       "      <td>{'incorrect_spans': []}</td>\n",
       "      <td>cc</td>\n",
       "      <td>Web</td>\n",
       "      <td>Common Crawl</td>\n",
       "    </tr>\n",
       "    <tr>\n",
       "      <th>2</th>\n",
       "      <td>Måtte det nye år gøre dem mere fortrolige med ...</td>\n",
       "      <td>[{'start': 6, 'end': 16, 'label': 'DATE'}, {'s...</td>\n",
       "      <td>[{'start': 0, 'end': 171}]</td>\n",
       "      <td>[{'id': 0, 'start': 0, 'end': 5}, {'id': 1, 's...</td>\n",
       "      <td>{'incorrect_spans': []}</td>\n",
       "      <td>naat</td>\n",
       "      <td>Conversation</td>\n",
       "      <td>NAAT</td>\n",
       "    </tr>\n",
       "    <tr>\n",
       "      <th>3</th>\n",
       "      <td>Vi har også 360 graders Private Banking rådgiv...</td>\n",
       "      <td>[{'start': 12, 'end': 23, 'label': 'QUANTITY'}]</td>\n",
       "      <td>[{'start': 0, 'end': 117}]</td>\n",
       "      <td>[{'id': 0, 'start': 0, 'end': 2}, {'id': 1, 's...</td>\n",
       "      <td>{'incorrect_spans': []}</td>\n",
       "      <td>cc</td>\n",
       "      <td>Web</td>\n",
       "      <td>Common Crawl</td>\n",
       "    </tr>\n",
       "    <tr>\n",
       "      <th>4</th>\n",
       "      <td>| Nyhedsmails</td>\n",
       "      <td>[]</td>\n",
       "      <td>[{'start': 0, 'end': 13}]</td>\n",
       "      <td>[{'id': 0, 'start': 0, 'end': 1}, {'id': 1, 's...</td>\n",
       "      <td>{'incorrect_spans': []}</td>\n",
       "      <td>cc</td>\n",
       "      <td>Web</td>\n",
       "      <td>Common Crawl</td>\n",
       "    </tr>\n",
       "  </tbody>\n",
       "</table>\n",
       "</div>"
      ],
      "text/plain": [
       "                                                text  \\\n",
       "0  Danmark skal bygges af maskinernes forsigtige ...   \n",
       "1  Hvil i Cap Dag - 2011 år Cap D'Agde Privat bil...   \n",
       "2  Måtte det nye år gøre dem mere fortrolige med ...   \n",
       "3  Vi har også 360 graders Private Banking rådgiv...   \n",
       "4                                      | Nyhedsmails   \n",
       "\n",
       "                                                ents  \\\n",
       "0           [{'start': 0, 'end': 7, 'label': 'GPE'}]   \n",
       "1  [{'start': 17, 'end': 21, 'label': 'DATE'}, {'...   \n",
       "2  [{'start': 6, 'end': 16, 'label': 'DATE'}, {'s...   \n",
       "3    [{'start': 12, 'end': 23, 'label': 'QUANTITY'}]   \n",
       "4                                                 []   \n",
       "\n",
       "                        sents  \\\n",
       "0   [{'start': 0, 'end': 60}]   \n",
       "1   [{'start': 0, 'end': 79}]   \n",
       "2  [{'start': 0, 'end': 171}]   \n",
       "3  [{'start': 0, 'end': 117}]   \n",
       "4   [{'start': 0, 'end': 13}]   \n",
       "\n",
       "                                              tokens                    spans  \\\n",
       "0  [{'id': 0, 'start': 0, 'end': 7}, {'id': 1, 's...  {'incorrect_spans': []}   \n",
       "1  [{'id': 0, 'start': 0, 'end': 4}, {'id': 1, 's...  {'incorrect_spans': []}   \n",
       "2  [{'id': 0, 'start': 0, 'end': 5}, {'id': 1, 's...  {'incorrect_spans': []}   \n",
       "3  [{'id': 0, 'start': 0, 'end': 2}, {'id': 1, 's...  {'incorrect_spans': []}   \n",
       "4  [{'id': 0, 'start': 0, 'end': 1}, {'id': 1, 's...  {'incorrect_spans': []}   \n",
       "\n",
       "  dagw_source   dagw_domain         dagw_source_full  \n",
       "0     danavis          News  Danish daily newspapers  \n",
       "1          cc           Web             Common Crawl  \n",
       "2        naat  Conversation                     NAAT  \n",
       "3          cc           Web             Common Crawl  \n",
       "4          cc           Web             Common Crawl  "
      ]
     },
     "execution_count": 4,
     "metadata": {},
     "output_type": "execute_result"
    }
   ],
   "source": [
    "train.head()"
   ]
  },
  {
   "cell_type": "code",
   "execution_count": 28,
   "metadata": {},
   "outputs": [
    {
     "name": "stdout",
     "output_type": "stream",
     "text": [
      "['O', 'O', 'O', 'O', 'O', 'DATE', 'O', 'GPE', 'GPE', 'O', 'O', 'O', 'O', 'O', 'O', 'O']\n",
      "16\n"
     ]
    }
   ],
   "source": [
    "line = train.iloc[1]\n",
    "text = line['text']\n",
    "ents = line['ents']\n",
    "tokens = line['tokens']\n",
    "ents_list = []\n",
    "for token in tokens:\n",
    "    start = token['start']\n",
    "    end = token['end']\n",
    "    if len(ents) > 0:\n",
    "        ent = ents[0]\n",
    "        ent_start = ent['start']\n",
    "        ent_end = ent['end']\n",
    "        ent_label = ent['label']\n",
    "        if end == ent_end:\n",
    "            ents_list.append(ent_label)\n",
    "            ents = ents[1:]\n",
    "        elif start >= ent_start and end < ent_end:\n",
    "            ents_list.append(ent_label)\n",
    "        else:\n",
    "            ents_list.append('O')\n",
    "    else:\n",
    "        ents_list.append('O')\n",
    "print(ents_list)\n",
    "print(len(ents_list))"
   ]
  },
  {
   "cell_type": "code",
   "execution_count": 33,
   "metadata": {},
   "outputs": [],
   "source": [
    "def ents_to_list(line):\n",
    "    ents = line['ents']\n",
    "    tokens = line['tokens']\n",
    "    ents_list = []\n",
    "\n",
    "    for token in tokens:\n",
    "        start = token['start']\n",
    "        end = token['end']\n",
    "\n",
    "        if len(ents) > 0:\n",
    "            ent = ents[0]\n",
    "            ent_start = ent['start']\n",
    "            ent_end = ent['end']\n",
    "            ent_label = ent['label']\n",
    "\n",
    "            if end == ent_end:\n",
    "                ents_list.append(ent_label)\n",
    "                ents = ents[1:]\n",
    "            elif start >= ent_start and end < ent_end:\n",
    "                ents_list.append(ent_label)\n",
    "            else:\n",
    "                ents_list.append('O')\n",
    "                \n",
    "        else:\n",
    "            ents_list.append('O')\n",
    "    \n",
    "    return ents_list"
   ]
  },
  {
   "cell_type": "code",
   "execution_count": 35,
   "metadata": {},
   "outputs": [
    {
     "name": "stdout",
     "output_type": "stream",
     "text": [
      "Måtte det nye år gøre dem mere fortrolige med livet i Danmark og hjælpe dem, de ældre såvel som den opvoksende generation, til at finde sig til rette i det danske samfund.\n",
      "[{'start': 6, 'end': 16, 'label': 'DATE'}\n",
      " {'start': 54, 'end': 61, 'label': 'GPE'}\n",
      " {'start': 156, 'end': 162, 'label': 'NORP'}]\n",
      "[{'id': 0, 'start': 0, 'end': 5} {'id': 1, 'start': 6, 'end': 9}\n",
      " {'id': 2, 'start': 10, 'end': 13} {'id': 3, 'start': 14, 'end': 16}\n",
      " {'id': 4, 'start': 17, 'end': 21} {'id': 5, 'start': 22, 'end': 25}\n",
      " {'id': 6, 'start': 26, 'end': 30} {'id': 7, 'start': 31, 'end': 41}\n",
      " {'id': 8, 'start': 42, 'end': 45} {'id': 9, 'start': 46, 'end': 51}\n",
      " {'id': 10, 'start': 52, 'end': 53} {'id': 11, 'start': 54, 'end': 61}\n",
      " {'id': 12, 'start': 62, 'end': 64} {'id': 13, 'start': 65, 'end': 71}\n",
      " {'id': 14, 'start': 72, 'end': 75} {'id': 15, 'start': 75, 'end': 76}\n",
      " {'id': 16, 'start': 77, 'end': 79} {'id': 17, 'start': 80, 'end': 85}\n",
      " {'id': 18, 'start': 86, 'end': 91} {'id': 19, 'start': 92, 'end': 95}\n",
      " {'id': 20, 'start': 96, 'end': 99} {'id': 21, 'start': 100, 'end': 110}\n",
      " {'id': 22, 'start': 111, 'end': 121} {'id': 23, 'start': 121, 'end': 122}\n",
      " {'id': 24, 'start': 123, 'end': 126} {'id': 25, 'start': 127, 'end': 129}\n",
      " {'id': 26, 'start': 130, 'end': 135} {'id': 27, 'start': 136, 'end': 139}\n",
      " {'id': 28, 'start': 140, 'end': 143} {'id': 29, 'start': 144, 'end': 149}\n",
      " {'id': 30, 'start': 150, 'end': 151} {'id': 31, 'start': 152, 'end': 155}\n",
      " {'id': 32, 'start': 156, 'end': 162} {'id': 33, 'start': 163, 'end': 170}\n",
      " {'id': 34, 'start': 170, 'end': 171}]\n"
     ]
    },
    {
     "data": {
      "text/plain": [
       "['O',\n",
       " 'DATE',\n",
       " 'DATE',\n",
       " 'DATE',\n",
       " 'O',\n",
       " 'O',\n",
       " 'O',\n",
       " 'O',\n",
       " 'O',\n",
       " 'O',\n",
       " 'O',\n",
       " 'GPE',\n",
       " 'O',\n",
       " 'O',\n",
       " 'O',\n",
       " 'O',\n",
       " 'O',\n",
       " 'O',\n",
       " 'O',\n",
       " 'O',\n",
       " 'O',\n",
       " 'O',\n",
       " 'O',\n",
       " 'O',\n",
       " 'O',\n",
       " 'O',\n",
       " 'O',\n",
       " 'O',\n",
       " 'O',\n",
       " 'O',\n",
       " 'O',\n",
       " 'O',\n",
       " 'NORP',\n",
       " 'O',\n",
       " 'O']"
      ]
     },
     "execution_count": 35,
     "metadata": {},
     "output_type": "execute_result"
    }
   ],
   "source": [
    "test_idx = 2\n",
    "line = train.iloc[test_idx]\n",
    "ents_to_list(line)"
   ]
  }
 ],
 "metadata": {
  "kernelspec": {
   "display_name": "Python 3",
   "language": "python",
   "name": "python3"
  },
  "language_info": {
   "codemirror_mode": {
    "name": "ipython",
    "version": 3
   },
   "file_extension": ".py",
   "mimetype": "text/x-python",
   "name": "python",
   "nbconvert_exporter": "python",
   "pygments_lexer": "ipython3",
   "version": "undefined.undefined.undefined"
  }
 },
 "nbformat": 4,
 "nbformat_minor": 2
}
