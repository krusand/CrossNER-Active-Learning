{
 "cells": [
  {
   "cell_type": "markdown",
   "metadata": {},
   "source": [
    "Concerting the entity tags of the train, test, and dev data to using BIO-tags."
   ]
  },
  {
   "cell_type": "code",
   "execution_count": 1,
   "metadata": {},
   "outputs": [
    {
     "name": "stderr",
     "output_type": "stream",
     "text": [
      "None of PyTorch, TensorFlow >= 2.0, or Flax have been found. Models won't be available and only tokenizers, configuration and file/data utilities can be used.\n"
     ]
    }
   ],
   "source": [
    "import pandas as pd\n",
    "from transformers import AutoTokenizer"
   ]
  },
  {
   "cell_type": "code",
   "execution_count": 2,
   "metadata": {},
   "outputs": [],
   "source": [
    "bert_model_name = \"bert-base-multilingual-cased\"\n",
    "bert_tokenizer = AutoTokenizer.from_pretrained(bert_model_name)"
   ]
  },
  {
   "cell_type": "code",
   "execution_count": 3,
   "metadata": {},
   "outputs": [],
   "source": [
    "train = pd.read_parquet(\"data/train.parquet\")\n",
    "dev = pd.read_parquet(\"data/dev.parquet\")\n",
    "test = pd.read_parquet(\"data/test.parquet\")"
   ]
  },
  {
   "cell_type": "code",
   "execution_count": 4,
   "metadata": {},
   "outputs": [
    {
     "data": {
      "text/html": [
       "<div>\n",
       "<style scoped>\n",
       "    .dataframe tbody tr th:only-of-type {\n",
       "        vertical-align: middle;\n",
       "    }\n",
       "\n",
       "    .dataframe tbody tr th {\n",
       "        vertical-align: top;\n",
       "    }\n",
       "\n",
       "    .dataframe thead th {\n",
       "        text-align: right;\n",
       "    }\n",
       "</style>\n",
       "<table border=\"1\" class=\"dataframe\">\n",
       "  <thead>\n",
       "    <tr style=\"text-align: right;\">\n",
       "      <th></th>\n",
       "      <th>text</th>\n",
       "      <th>ents</th>\n",
       "      <th>sents</th>\n",
       "      <th>tokens</th>\n",
       "      <th>spans</th>\n",
       "      <th>dagw_source</th>\n",
       "      <th>dagw_domain</th>\n",
       "      <th>dagw_source_full</th>\n",
       "    </tr>\n",
       "  </thead>\n",
       "  <tbody>\n",
       "    <tr>\n",
       "      <th>0</th>\n",
       "      <td>Danmark skal bygges af maskinernes forsigtige ...</td>\n",
       "      <td>[{'start': 0, 'end': 7, 'label': 'GPE'}]</td>\n",
       "      <td>[{'start': 0, 'end': 60}]</td>\n",
       "      <td>[{'id': 0, 'start': 0, 'end': 7}, {'id': 1, 's...</td>\n",
       "      <td>{'incorrect_spans': []}</td>\n",
       "      <td>danavis</td>\n",
       "      <td>News</td>\n",
       "      <td>Danish daily newspapers</td>\n",
       "    </tr>\n",
       "    <tr>\n",
       "      <th>1</th>\n",
       "      <td>Hvil i Cap Dag - 2011 år Cap D'Agde Privat bil...</td>\n",
       "      <td>[{'start': 17, 'end': 21, 'label': 'DATE'}, {'...</td>\n",
       "      <td>[{'start': 0, 'end': 79}]</td>\n",
       "      <td>[{'id': 0, 'start': 0, 'end': 4}, {'id': 1, 's...</td>\n",
       "      <td>{'incorrect_spans': []}</td>\n",
       "      <td>cc</td>\n",
       "      <td>Web</td>\n",
       "      <td>Common Crawl</td>\n",
       "    </tr>\n",
       "    <tr>\n",
       "      <th>2</th>\n",
       "      <td>Måtte det nye år gøre dem mere fortrolige med ...</td>\n",
       "      <td>[{'start': 6, 'end': 16, 'label': 'DATE'}, {'s...</td>\n",
       "      <td>[{'start': 0, 'end': 171}]</td>\n",
       "      <td>[{'id': 0, 'start': 0, 'end': 5}, {'id': 1, 's...</td>\n",
       "      <td>{'incorrect_spans': []}</td>\n",
       "      <td>naat</td>\n",
       "      <td>Conversation</td>\n",
       "      <td>NAAT</td>\n",
       "    </tr>\n",
       "    <tr>\n",
       "      <th>3</th>\n",
       "      <td>Vi har også 360 graders Private Banking rådgiv...</td>\n",
       "      <td>[{'start': 12, 'end': 23, 'label': 'QUANTITY'}]</td>\n",
       "      <td>[{'start': 0, 'end': 117}]</td>\n",
       "      <td>[{'id': 0, 'start': 0, 'end': 2}, {'id': 1, 's...</td>\n",
       "      <td>{'incorrect_spans': []}</td>\n",
       "      <td>cc</td>\n",
       "      <td>Web</td>\n",
       "      <td>Common Crawl</td>\n",
       "    </tr>\n",
       "    <tr>\n",
       "      <th>4</th>\n",
       "      <td>| Nyhedsmails</td>\n",
       "      <td>[]</td>\n",
       "      <td>[{'start': 0, 'end': 13}]</td>\n",
       "      <td>[{'id': 0, 'start': 0, 'end': 1}, {'id': 1, 's...</td>\n",
       "      <td>{'incorrect_spans': []}</td>\n",
       "      <td>cc</td>\n",
       "      <td>Web</td>\n",
       "      <td>Common Crawl</td>\n",
       "    </tr>\n",
       "  </tbody>\n",
       "</table>\n",
       "</div>"
      ],
      "text/plain": [
       "                                                text  \\\n",
       "0  Danmark skal bygges af maskinernes forsigtige ...   \n",
       "1  Hvil i Cap Dag - 2011 år Cap D'Agde Privat bil...   \n",
       "2  Måtte det nye år gøre dem mere fortrolige med ...   \n",
       "3  Vi har også 360 graders Private Banking rådgiv...   \n",
       "4                                      | Nyhedsmails   \n",
       "\n",
       "                                                ents  \\\n",
       "0           [{'start': 0, 'end': 7, 'label': 'GPE'}]   \n",
       "1  [{'start': 17, 'end': 21, 'label': 'DATE'}, {'...   \n",
       "2  [{'start': 6, 'end': 16, 'label': 'DATE'}, {'s...   \n",
       "3    [{'start': 12, 'end': 23, 'label': 'QUANTITY'}]   \n",
       "4                                                 []   \n",
       "\n",
       "                        sents  \\\n",
       "0   [{'start': 0, 'end': 60}]   \n",
       "1   [{'start': 0, 'end': 79}]   \n",
       "2  [{'start': 0, 'end': 171}]   \n",
       "3  [{'start': 0, 'end': 117}]   \n",
       "4   [{'start': 0, 'end': 13}]   \n",
       "\n",
       "                                              tokens                    spans  \\\n",
       "0  [{'id': 0, 'start': 0, 'end': 7}, {'id': 1, 's...  {'incorrect_spans': []}   \n",
       "1  [{'id': 0, 'start': 0, 'end': 4}, {'id': 1, 's...  {'incorrect_spans': []}   \n",
       "2  [{'id': 0, 'start': 0, 'end': 5}, {'id': 1, 's...  {'incorrect_spans': []}   \n",
       "3  [{'id': 0, 'start': 0, 'end': 2}, {'id': 1, 's...  {'incorrect_spans': []}   \n",
       "4  [{'id': 0, 'start': 0, 'end': 1}, {'id': 1, 's...  {'incorrect_spans': []}   \n",
       "\n",
       "  dagw_source   dagw_domain         dagw_source_full  \n",
       "0     danavis          News  Danish daily newspapers  \n",
       "1          cc           Web             Common Crawl  \n",
       "2        naat  Conversation                     NAAT  \n",
       "3          cc           Web             Common Crawl  \n",
       "4          cc           Web             Common Crawl  "
      ]
     },
     "execution_count": 4,
     "metadata": {},
     "output_type": "execute_result"
    }
   ],
   "source": [
    "train.head()"
   ]
  },
  {
   "cell_type": "code",
   "execution_count": 5,
   "metadata": {},
   "outputs": [
    {
     "name": "stdout",
     "output_type": "stream",
     "text": [
      "0 ko\n",
      "1 gris\n"
     ]
    }
   ],
   "source": [
    "my_list = ['ko', 'gris']\n",
    "for i, animal in enumerate(my_list):\n",
    "    print(i, animal)"
   ]
  },
  {
   "cell_type": "code",
   "execution_count": 6,
   "metadata": {},
   "outputs": [
    {
     "name": "stdout",
     "output_type": "stream",
     "text": [
      "173\n"
     ]
    }
   ],
   "source": [
    "# checking if two similar entities follow right after each other\n",
    "count = 0\n",
    "for i, row in enumerate(train.iloc):\n",
    "    ents = row['ents']\n",
    "    prev_ent = {'start': 0, 'end': 0, 'label': 'O'}\n",
    "\n",
    "    for ent in ents:\n",
    "        prev_end = prev_ent['end']\n",
    "        prev_label = prev_ent['label']\n",
    "        ent_start = ent['start']\n",
    "        ent_label = ent['label']\n",
    "\n",
    "        if ent_start == prev_end + 2 and ent_label == prev_label:\n",
    "            # print(i)\n",
    "            count += 1\n",
    "\n",
    "        prev_ent = ent\n",
    "\n",
    "print(count)"
   ]
  },
  {
   "cell_type": "code",
   "execution_count": 21,
   "metadata": {},
   "outputs": [
    {
     "name": "stdout",
     "output_type": "stream",
     "text": [
      "0\n",
      "0\n",
      "0\n",
      "0\n",
      "0\n",
      "1\n",
      "2\n",
      "3\n",
      "0\n",
      "2\n",
      "4\n",
      "6\n",
      "0\n",
      "3\n",
      "6\n",
      "9\n",
      "0\n",
      "4\n",
      "8\n",
      "12\n"
     ]
    }
   ],
   "source": [
    "for i in range(5):\n",
    "    for j in range(5):\n",
    "        prod = i*j\n",
    "        if j > 3:\n",
    "            break\n",
    "        else:\n",
    "            print(prod)"
   ]
  },
  {
   "cell_type": "code",
   "execution_count": 39,
   "metadata": {},
   "outputs": [
    {
     "name": "stdout",
     "output_type": "stream",
     "text": [
      "ko\n",
      "hest\n",
      "hund\n"
     ]
    }
   ],
   "source": [
    "my_list = ['ko', 'hest', 'hund']\n",
    "for animal in my_list:\n",
    "    if len(animal) > 1:\n",
    "        print(animal)\n",
    "    \n",
    "    elif len(animal) > 2:\n",
    "        print(animal)"
   ]
  },
  {
   "cell_type": "code",
   "execution_count": 45,
   "metadata": {},
   "outputs": [
    {
     "name": "stdout",
     "output_type": "stream",
     "text": [
      "Fysisk butik Bredskiftevej 16, 8210 Aarhus V\n",
      "[{'start': 13, 'end': 26, 'label': 'FACILITY'}\n",
      " {'start': 27, 'end': 29, 'label': 'CARDINAL'}\n",
      " {'start': 31, 'end': 35, 'label': 'CARDINAL'}\n",
      " {'start': 36, 'end': 44, 'label': 'LOCATION'}]\n",
      "[{'id': 0, 'start': 0, 'end': 6} {'id': 1, 'start': 7, 'end': 12}\n",
      " {'id': 2, 'start': 13, 'end': 26} {'id': 3, 'start': 27, 'end': 29}\n",
      " {'id': 4, 'start': 29, 'end': 30} {'id': 5, 'start': 31, 'end': 35}\n",
      " {'id': 6, 'start': 36, 'end': 42} {'id': 7, 'start': 43, 'end': 44}]\n",
      "Bredskiftevej\n",
      "16\n",
      "8210\n",
      "Aarhus V\n"
     ]
    }
   ],
   "source": [
    "test_idx = 128\n",
    "text = train.iloc[test_idx]['text']\n",
    "ents = train.iloc[test_idx]['ents']\n",
    "tokens = train.iloc[test_idx]['tokens']\n",
    "print(text)\n",
    "print(ents)\n",
    "print(tokens)\n",
    "print(text[13:26])\n",
    "print(text[27:29])\n",
    "print(text[31:35])\n",
    "print(text[36:44])\n"
   ]
  },
  {
   "cell_type": "code",
   "execution_count": 44,
   "metadata": {},
   "outputs": [
    {
     "name": "stdout",
     "output_type": "stream",
     "text": [
      "Fysisk butik Bredskiftevej 16, 8210 Aarhus V\n",
      "[{'start': 13, 'end': 26, 'label': 'FACILITY'}\n",
      " {'start': 27, 'end': 29, 'label': 'CARDINAL'}\n",
      " {'start': 31, 'end': 35, 'label': 'CARDINAL'}\n",
      " {'start': 36, 'end': 44, 'label': 'LOCATION'}]\n",
      "Bredskiftevej\n",
      "16\n",
      "8210\n",
      "Aarhus V\n",
      "['[CLS]', 'F', '##ysis', '##k', 'but', '##ik', 'Br', '##eds', '##ki', '##fte', '##vej', '16', ',', '821', '##0', 'Aarhus', 'V', '[SEP]']\n",
      "['F', '##ysis', '##k', 'but', '##ik', 'Br', '##eds', '##ki', '##fte', '##vej', '16', ',', '821', '##0', 'Aarhus', 'V']\n",
      "['Fysisk', 'butik', 'Bredskiftevej', '16', ',', '8210', 'Aarhus', 'V']\n",
      "1 of 4\n",
      "Fysisk\n",
      "count: 0\n",
      "count: 7\n",
      "\n",
      "butik\n",
      "count: 7\n",
      "count: 13\n",
      "\n",
      "Bredskiftevej\n",
      "count: 13\n",
      "count: 27\n",
      "\n",
      "16\n",
      "count: 27\n",
      "2 of 4\n",
      "16\n",
      "count: 27\n",
      "count: 30\n",
      "\n",
      ",\n",
      "count: 30\n",
      "3 of 4\n",
      ",\n",
      "count: 30\n",
      "count: 32\n",
      "\n",
      "8210\n",
      "count: 32\n",
      "count: 37\n",
      "\n",
      "Aarhus\n",
      "count: 37\n",
      "4 of 4\n",
      "Aarhus\n",
      "count: 37\n",
      "count: 44\n",
      "\n",
      "V\n",
      "count: 44\n",
      "count: 46\n",
      "\n",
      "['O', 'O', 'B-FACILITY', 'B-CARDINAL', 'I-CARDINAL', 'I-LOCATION']\n"
     ]
    }
   ],
   "source": [
    "test_idx = 128\n",
    "text = train.iloc[test_idx]['text']\n",
    "ents = train.iloc[test_idx]['ents']\n",
    "print(text)\n",
    "print(ents)\n",
    "print(text[13:26])\n",
    "print(text[27:29])\n",
    "print(text[31:35])\n",
    "print(text[36:44])\n",
    "\n",
    "tokenized_text = bert_tokenizer(text).tokens()\n",
    "no_special_tokens = tokenized_text[1:-1]\n",
    "print(tokenized_text)\n",
    "print(no_special_tokens)\n",
    "pure_tokens = []\n",
    "\n",
    "for i, token in enumerate(no_special_tokens):\n",
    "    first_letter = token[0]\n",
    "\n",
    "    if first_letter == '#':\n",
    "        pure_token = token.strip('#')\n",
    "        combined_token = pure_tokens[-1] + pure_token\n",
    "        pure_tokens.pop()\n",
    "        pure_tokens.append(combined_token)\n",
    "\n",
    "    else:\n",
    "        pure_tokens.append(token)\n",
    "\n",
    "print(pure_tokens)\n",
    "\n",
    "count = 0\n",
    "token_count = 0\n",
    "new_ents = []\n",
    "\n",
    "for i,ent in enumerate(ents):\n",
    "    print(f\"{i+1} of {len(ents)}\")\n",
    "    ent_start = ent['start']\n",
    "    ent_end = ent['end']\n",
    "    ent_label = ent['label']\n",
    "\n",
    "    for token in pure_tokens[token_count:]:\n",
    "        print(token)\n",
    "        print(f'count: {count}')\n",
    "        tok_len = len(token)\n",
    "        new_count = count + tok_len\n",
    "\n",
    "        if count > ent_end:\n",
    "            break\n",
    "\n",
    "        if new_count < ent_start:\n",
    "            new_ents.append('O')\n",
    "\n",
    "        elif count == ent_start:\n",
    "            new_ents.append('B-' + ent_label)\n",
    "\n",
    "        elif new_count <= ent_end:\n",
    "            new_ents.append('I-' + ent_label)\n",
    "\n",
    "        token_count += 1\n",
    "        count = new_count + 1\n",
    "        print(f'count: {count}\\n')\n",
    "\n",
    "print(new_ents)"
   ]
  },
  {
   "cell_type": "code",
   "execution_count": 27,
   "metadata": {},
   "outputs": [
    {
     "name": "stdout",
     "output_type": "stream",
     "text": [
      "Fysisk butik Bredskiftevej 16, 8210 Aarhus V\n",
      "[{'start': 13, 'end': 26, 'label': 'FACILITY'}\n",
      " {'start': 27, 'end': 29, 'label': 'CARDINAL'}\n",
      " {'start': 31, 'end': 35, 'label': 'CARDINAL'}\n",
      " {'start': 36, 'end': 44, 'label': 'LOCATION'}]\n",
      "Bredskiftevej\n",
      "16\n",
      "8210\n",
      "Aarhus V\n",
      "['[CLS]', 'F', '##ysis', '##k', 'but', '##ik', 'Br', '##eds', '##ki', '##fte', '##vej', '16', ',', '821', '##0', 'Aarhus', 'V', '[SEP]']\n",
      "['F', '##ysis', '##k', 'but', '##ik', 'Br', '##eds', '##ki', '##fte', '##vej', '16', ',', '821', '##0', 'Aarhus', 'V']\n",
      "['Fysisk', 'butik', 'Bredskiftevej', '16', ',', '8210', 'Aarhus', 'V']\n",
      "['O', 'O', 'O', 'O', 'O', 'O', 'O', 'O', 'B-CARDINAL', 'O', 'B-LOCATION', 'I-LOCATION']\n"
     ]
    }
   ],
   "source": [
    "test_idx = 128\n",
    "text = train.iloc[test_idx]['text']\n",
    "ents = train.iloc[test_idx]['ents']\n",
    "print(text)\n",
    "print(ents)\n",
    "print(text[13:26])\n",
    "print(text[27:29])\n",
    "print(text[31:35])\n",
    "print(text[36:44])\n",
    "\n",
    "tokenized_text = bert_tokenizer(text).tokens()\n",
    "no_special_tokens = tokenized_text[1:-1]\n",
    "print(tokenized_text)\n",
    "print(no_special_tokens)\n",
    "pure_tokens = []\n",
    "\n",
    "for i, token in enumerate(no_special_tokens):\n",
    "    first_letter = token[0]\n",
    "\n",
    "    if first_letter == '#':\n",
    "        pure_token = token.strip('#')\n",
    "        combined_token = pure_tokens[-1] + pure_token\n",
    "        pure_tokens.pop()\n",
    "        pure_tokens.append(combined_token)\n",
    "\n",
    "    else:\n",
    "        pure_tokens.append(token)\n",
    "\n",
    "print(pure_tokens)\n",
    "\n",
    "count = 0\n",
    "skipped_ents = 0\n",
    "new_ents = []\n",
    "new_ents_dict = []\n",
    "\n",
    "for token in pure_tokens:\n",
    "    # print(f\"{i+1} of {len(ents)}\")\n",
    "    tok_len = len(token)\n",
    "    new_count = count + tok_len\n",
    "\n",
    "    for ent in ents[skipped_ents:]:\n",
    "        ent_start = ent['start']\n",
    "        ent_end = ent['end']\n",
    "        ent_label = ent['label']\n",
    "    \n",
    "        if new_count < ent_start:\n",
    "            new_ents.append('O')\n",
    "\n",
    "        elif new_count == ent_start:\n",
    "            new_ents.append('B-' + ent_label)\n",
    "\n",
    "        elif count > ent_start and new_count <= ent_end:\n",
    "            new_ents.append('I-' + ent_label)\n",
    "\n",
    "        elif new_count == ent_end:\n",
    "            count = new_count + 1\n",
    "            skipped_ents += 1\n",
    "            break\n",
    "\n",
    "        count = new_count + 1\n",
    "\n",
    "print(new_ents)"
   ]
  },
  {
   "cell_type": "code",
   "execution_count": 7,
   "metadata": {},
   "outputs": [
    {
     "ename": "IndexError",
     "evalue": "list index out of range",
     "output_type": "error",
     "traceback": [
      "\u001b[0;31m---------------------------------------------------------------------------\u001b[0m",
      "\u001b[0;31mIndexError\u001b[0m                                Traceback (most recent call last)",
      "Cell \u001b[0;32mIn[7], line 16\u001b[0m\n\u001b[1;32m     14\u001b[0m \u001b[38;5;28;01mif\u001b[39;00m first_letter \u001b[38;5;241m==\u001b[39m \u001b[38;5;124m'\u001b[39m\u001b[38;5;124m#\u001b[39m\u001b[38;5;124m'\u001b[39m:\n\u001b[1;32m     15\u001b[0m     pure_token \u001b[38;5;241m=\u001b[39m token\u001b[38;5;241m.\u001b[39mstrip(\u001b[38;5;124m'\u001b[39m\u001b[38;5;124m#\u001b[39m\u001b[38;5;124m'\u001b[39m)\n\u001b[0;32m---> 16\u001b[0m     combined_token \u001b[38;5;241m=\u001b[39m pure_tokens[\u001b[38;5;241m-\u001b[39m\u001b[38;5;241m1\u001b[39m] \u001b[38;5;241m+\u001b[39m pure_token\n\u001b[1;32m     17\u001b[0m     pure_tokens\u001b[38;5;241m.\u001b[39mpop()\n\u001b[1;32m     18\u001b[0m     pure_tokens\u001b[38;5;241m.\u001b[39mappend(combined_token)\n",
      "\u001b[0;31mIndexError\u001b[0m: list index out of range"
     ]
    }
   ],
   "source": [
    "for row in train.iloc:\n",
    "    text = row[\"text\"]\n",
    "    ents = row[\"ents\"]\n",
    "\n",
    "    token_start = 0\n",
    "\n",
    "    tokenized_text = bert_tokenizer(text).tokens()\n",
    "    no_special_tokens = tokenized_text[1:-1]\n",
    "    pure_tokens = []\n",
    "\n",
    "    for i, token in enumerate(no_special_tokens):\n",
    "        first_letter = token[0]\n",
    "\n",
    "        if first_letter == '#':\n",
    "            pure_token = token.strip('#')\n",
    "            combined_token = pure_tokens[-1] + pure_token\n",
    "            pure_tokens.pop()\n",
    "            pure_tokens.append(combined_token)\n",
    "\n",
    "        else:\n",
    "            pure_tokens.append(token)\n",
    "\n",
    "    \n",
    "    new_ents = []\n",
    "    for ent in ents:\n",
    "        if token in (\"[CLS]\", \"[SEP]\"):\n",
    "            # skip to next token\n",
    "            continue \n",
    "        if token.startswith(\"##\"):\n",
    "            token = token[2:]"
   ]
  },
  {
   "cell_type": "code",
   "execution_count": null,
   "metadata": {},
   "outputs": [
    {
     "name": "stdout",
     "output_type": "stream",
     "text": [
      "['[CLS]', 'Vi', 'har', 'også', '360', 'grader', '##s', 'Private', 'Bank', '##ing', 'råd', '##gi', '##vning', 'til', 'form', '##uen', '##de', 'kunde', '##r', 'med', 'specialist', '##er', 'inden', '##for', 'ska', '##t', 'og', 'in', '##vest', '##ering', '[SEP]']\n",
      "['Vi', 'har', 'også', '360', 'grader', '##s', 'Private', 'Bank', '##ing', 'råd', '##gi', '##vning', 'til', 'form', '##uen', '##de', 'kunde', '##r', 'med', 'specialist', '##er', 'inden', '##for', 'ska', '##t', 'og', 'in', '##vest', '##ering']\n",
      "['Vi', 'har', 'også', '360', 'graders', 'Private', 'Banking', 'rådgivning', 'til', 'formuende', 'kunder', 'med', 'specialister', 'indenfor', 'skat', 'og', 'investering']\n"
     ]
    }
   ],
   "source": [
    "tokenized_text = bert_tokenizer(train['text'][3]).tokens()\n",
    "no_special_tokens = tokenized_text[1:-1]\n",
    "\n",
    "pure_tokens = []\n",
    "for i, token in enumerate(no_special_tokens):\n",
    "    first_letter = token[0]\n",
    "    if first_letter == '#':\n",
    "        pure_token = token.strip('#')\n",
    "        combined_token = pure_tokens[-1] + pure_token\n",
    "        pure_tokens.pop()\n",
    "        pure_tokens.append(combined_token)\n",
    "    else:\n",
    "        pure_tokens.append(token)"
   ]
  },
  {
   "cell_type": "code",
   "execution_count": null,
   "metadata": {},
   "outputs": [
    {
     "ename": "SyntaxError",
     "evalue": "invalid syntax (2055908776.py, line 8)",
     "output_type": "error",
     "traceback": [
      "\u001b[0;36m  Cell \u001b[0;32mIn[45], line 8\u001b[0;36m\u001b[0m\n\u001b[0;31m    if count =\u001b[0m\n\u001b[0m             ^\u001b[0m\n\u001b[0;31mSyntaxError\u001b[0m\u001b[0;31m:\u001b[0m invalid syntax\n"
     ]
    }
   ],
   "source": [
    "ents = train['ents'][3]\n",
    "print(ents)\n",
    "ent = ents[0]\n",
    "print(ent)\n",
    "new_ents = []\n",
    "\n",
    "count = 0\n",
    "start = ent['start']\n",
    "end = ent['end']\n",
    "tag = ent['label']\n",
    "\n",
    "for token in pure_tokens:\n",
    "    new_ent_dict = {}\n",
    "    token_len = len(token)\n",
    "    new_count = count + token_len\n",
    "\n",
    "    if count == start and new_count <= end:\n",
    "        new_ent_dict['start'] = count\n",
    "        new_ent_dict['end'] = count + new_count\n",
    "        new_ent_dict['label'] = 'B-' + tag\n",
    "\n",
    "    elif count > start and new_count < end:\n",
    "        new_ent_dict['start'] = count\n",
    "        new_ent_dict['end'] = count + new_count\n",
    "        new_ent_dict['label'] = 'I-' + tag\n",
    "    \n",
    "    count += tok"
   ]
  },
  {
   "cell_type": "code",
   "execution_count": null,
   "metadata": {},
   "outputs": [
    {
     "data": {
      "text/plain": [
       "['ko', 'hest']"
      ]
     },
     "execution_count": 40,
     "metadata": {},
     "output_type": "execute_result"
    }
   ],
   "source": [
    "for i in range(10):\n",
    "    for j in range(3):\n",
    "        if"
   ]
  }
 ],
 "metadata": {
  "kernelspec": {
   "display_name": "base",
   "language": "python",
   "name": "python3"
  },
  "language_info": {
   "codemirror_mode": {
    "name": "ipython",
    "version": 3
   },
   "file_extension": ".py",
   "mimetype": "text/x-python",
   "name": "python",
   "nbconvert_exporter": "python",
   "pygments_lexer": "ipython3",
   "version": "3.11.7"
  }
 },
 "nbformat": 4,
 "nbformat_minor": 2
}
