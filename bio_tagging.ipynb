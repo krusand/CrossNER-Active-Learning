{
 "cells": [
  {
   "cell_type": "markdown",
   "metadata": {},
   "source": [
    "Concerting the entity tags of the train, test, and dev data to using BIO-tags."
   ]
  },
  {
   "cell_type": "code",
   "execution_count": 17,
   "metadata": {},
   "outputs": [
    {
     "name": "stderr",
     "output_type": "stream",
     "text": [
      "None of PyTorch, TensorFlow >= 2.0, or Flax have been found. Models won't be available and only tokenizers, configuration and file/data utilities can be used.\n"
     ]
    }
   ],
   "source": [
    "import pandas as pd\n",
    "from transformers import AutoTokenizer"
   ]
  },
  {
   "cell_type": "code",
   "execution_count": 18,
   "metadata": {},
   "outputs": [
    {
     "data": {
      "application/vnd.jupyter.widget-view+json": {
       "model_id": "cbaf605004e244969d931bb260595be2",
       "version_major": 2,
       "version_minor": 0
      },
      "text/plain": [
       "tokenizer_config.json:   0%|          | 0.00/49.0 [00:00<?, ?B/s]"
      ]
     },
     "metadata": {},
     "output_type": "display_data"
    },
    {
     "data": {
      "application/vnd.jupyter.widget-view+json": {
       "model_id": "65d14557c187428a934f09ca852ab918",
       "version_major": 2,
       "version_minor": 0
      },
      "text/plain": [
       "config.json:   0%|          | 0.00/625 [00:00<?, ?B/s]"
      ]
     },
     "metadata": {},
     "output_type": "display_data"
    },
    {
     "data": {
      "application/vnd.jupyter.widget-view+json": {
       "model_id": "7c2bfb65f1564b718b777df31d6d7a1b",
       "version_major": 2,
       "version_minor": 0
      },
      "text/plain": [
       "vocab.txt:   0%|          | 0.00/996k [00:00<?, ?B/s]"
      ]
     },
     "metadata": {},
     "output_type": "display_data"
    },
    {
     "data": {
      "application/vnd.jupyter.widget-view+json": {
       "model_id": "69dcfa7224d64021ba258ff895f2695f",
       "version_major": 2,
       "version_minor": 0
      },
      "text/plain": [
       "tokenizer.json:   0%|          | 0.00/1.96M [00:00<?, ?B/s]"
      ]
     },
     "metadata": {},
     "output_type": "display_data"
    }
   ],
   "source": [
    "bert_model_name = \"bert-base-multilingual-cased\"\n",
    "bert_tokenizer = AutoTokenizer.from_pretrained(bert_model_name)"
   ]
  },
  {
   "cell_type": "code",
   "execution_count": 3,
   "metadata": {},
   "outputs": [],
   "source": [
    "train = pd.read_parquet(\"data/train.parquet\")\n",
    "dev = pd.read_parquet(\"data/dev.parquet\")\n",
    "test = pd.read_parquet(\"data/test.parquet\")"
   ]
  },
  {
   "cell_type": "code",
   "execution_count": 14,
   "metadata": {},
   "outputs": [
    {
     "data": {
      "text/html": [
       "<div>\n",
       "<style scoped>\n",
       "    .dataframe tbody tr th:only-of-type {\n",
       "        vertical-align: middle;\n",
       "    }\n",
       "\n",
       "    .dataframe tbody tr th {\n",
       "        vertical-align: top;\n",
       "    }\n",
       "\n",
       "    .dataframe thead th {\n",
       "        text-align: right;\n",
       "    }\n",
       "</style>\n",
       "<table border=\"1\" class=\"dataframe\">\n",
       "  <thead>\n",
       "    <tr style=\"text-align: right;\">\n",
       "      <th></th>\n",
       "      <th>text</th>\n",
       "      <th>ents</th>\n",
       "      <th>sents</th>\n",
       "      <th>tokens</th>\n",
       "      <th>spans</th>\n",
       "      <th>dagw_source</th>\n",
       "      <th>dagw_domain</th>\n",
       "      <th>dagw_source_full</th>\n",
       "    </tr>\n",
       "  </thead>\n",
       "  <tbody>\n",
       "    <tr>\n",
       "      <th>0</th>\n",
       "      <td>Danmark skal bygges af maskinernes forsigtige ...</td>\n",
       "      <td>[{'start': 0, 'end': 7, 'label': 'GPE'}]</td>\n",
       "      <td>[{'start': 0, 'end': 60}]</td>\n",
       "      <td>[{'id': 0, 'start': 0, 'end': 7}, {'id': 1, 's...</td>\n",
       "      <td>{'incorrect_spans': []}</td>\n",
       "      <td>danavis</td>\n",
       "      <td>News</td>\n",
       "      <td>Danish daily newspapers</td>\n",
       "    </tr>\n",
       "    <tr>\n",
       "      <th>1</th>\n",
       "      <td>Hvil i Cap Dag - 2011 år Cap D'Agde Privat bil...</td>\n",
       "      <td>[{'start': 17, 'end': 21, 'label': 'DATE'}, {'...</td>\n",
       "      <td>[{'start': 0, 'end': 79}]</td>\n",
       "      <td>[{'id': 0, 'start': 0, 'end': 4}, {'id': 1, 's...</td>\n",
       "      <td>{'incorrect_spans': []}</td>\n",
       "      <td>cc</td>\n",
       "      <td>Web</td>\n",
       "      <td>Common Crawl</td>\n",
       "    </tr>\n",
       "    <tr>\n",
       "      <th>2</th>\n",
       "      <td>Måtte det nye år gøre dem mere fortrolige med ...</td>\n",
       "      <td>[{'start': 6, 'end': 16, 'label': 'DATE'}, {'s...</td>\n",
       "      <td>[{'start': 0, 'end': 171}]</td>\n",
       "      <td>[{'id': 0, 'start': 0, 'end': 5}, {'id': 1, 's...</td>\n",
       "      <td>{'incorrect_spans': []}</td>\n",
       "      <td>naat</td>\n",
       "      <td>Conversation</td>\n",
       "      <td>NAAT</td>\n",
       "    </tr>\n",
       "    <tr>\n",
       "      <th>3</th>\n",
       "      <td>Vi har også 360 graders Private Banking rådgiv...</td>\n",
       "      <td>[{'start': 12, 'end': 23, 'label': 'QUANTITY'}]</td>\n",
       "      <td>[{'start': 0, 'end': 117}]</td>\n",
       "      <td>[{'id': 0, 'start': 0, 'end': 2}, {'id': 1, 's...</td>\n",
       "      <td>{'incorrect_spans': []}</td>\n",
       "      <td>cc</td>\n",
       "      <td>Web</td>\n",
       "      <td>Common Crawl</td>\n",
       "    </tr>\n",
       "    <tr>\n",
       "      <th>4</th>\n",
       "      <td>| Nyhedsmails</td>\n",
       "      <td>[]</td>\n",
       "      <td>[{'start': 0, 'end': 13}]</td>\n",
       "      <td>[{'id': 0, 'start': 0, 'end': 1}, {'id': 1, 's...</td>\n",
       "      <td>{'incorrect_spans': []}</td>\n",
       "      <td>cc</td>\n",
       "      <td>Web</td>\n",
       "      <td>Common Crawl</td>\n",
       "    </tr>\n",
       "  </tbody>\n",
       "</table>\n",
       "</div>"
      ],
      "text/plain": [
       "                                                text  \\\n",
       "0  Danmark skal bygges af maskinernes forsigtige ...   \n",
       "1  Hvil i Cap Dag - 2011 år Cap D'Agde Privat bil...   \n",
       "2  Måtte det nye år gøre dem mere fortrolige med ...   \n",
       "3  Vi har også 360 graders Private Banking rådgiv...   \n",
       "4                                      | Nyhedsmails   \n",
       "\n",
       "                                                ents  \\\n",
       "0           [{'start': 0, 'end': 7, 'label': 'GPE'}]   \n",
       "1  [{'start': 17, 'end': 21, 'label': 'DATE'}, {'...   \n",
       "2  [{'start': 6, 'end': 16, 'label': 'DATE'}, {'s...   \n",
       "3    [{'start': 12, 'end': 23, 'label': 'QUANTITY'}]   \n",
       "4                                                 []   \n",
       "\n",
       "                        sents  \\\n",
       "0   [{'start': 0, 'end': 60}]   \n",
       "1   [{'start': 0, 'end': 79}]   \n",
       "2  [{'start': 0, 'end': 171}]   \n",
       "3  [{'start': 0, 'end': 117}]   \n",
       "4   [{'start': 0, 'end': 13}]   \n",
       "\n",
       "                                              tokens                    spans  \\\n",
       "0  [{'id': 0, 'start': 0, 'end': 7}, {'id': 1, 's...  {'incorrect_spans': []}   \n",
       "1  [{'id': 0, 'start': 0, 'end': 4}, {'id': 1, 's...  {'incorrect_spans': []}   \n",
       "2  [{'id': 0, 'start': 0, 'end': 5}, {'id': 1, 's...  {'incorrect_spans': []}   \n",
       "3  [{'id': 0, 'start': 0, 'end': 2}, {'id': 1, 's...  {'incorrect_spans': []}   \n",
       "4  [{'id': 0, 'start': 0, 'end': 1}, {'id': 1, 's...  {'incorrect_spans': []}   \n",
       "\n",
       "  dagw_source   dagw_domain         dagw_source_full  \n",
       "0     danavis          News  Danish daily newspapers  \n",
       "1          cc           Web             Common Crawl  \n",
       "2        naat  Conversation                     NAAT  \n",
       "3          cc           Web             Common Crawl  \n",
       "4          cc           Web             Common Crawl  "
      ]
     },
     "execution_count": 14,
     "metadata": {},
     "output_type": "execute_result"
    }
   ],
   "source": [
    "train.head()"
   ]
  },
  {
   "cell_type": "code",
   "execution_count": 25,
   "metadata": {},
   "outputs": [
    {
     "data": {
      "text/plain": [
       "['[CLS]',\n",
       " 'Vi',\n",
       " 'har',\n",
       " 'også',\n",
       " '360',\n",
       " 'grader',\n",
       " '##s',\n",
       " 'Private',\n",
       " 'Bank',\n",
       " '##ing',\n",
       " 'råd',\n",
       " '##gi',\n",
       " '##vning',\n",
       " 'til',\n",
       " 'form',\n",
       " '##uen',\n",
       " '##de',\n",
       " 'kunde',\n",
       " '##r',\n",
       " 'med',\n",
       " 'specialist',\n",
       " '##er',\n",
       " 'inden',\n",
       " '##for',\n",
       " 'ska',\n",
       " '##t',\n",
       " 'og',\n",
       " 'in',\n",
       " '##vest',\n",
       " '##ering',\n",
       " '[SEP]']"
      ]
     },
     "execution_count": 25,
     "metadata": {},
     "output_type": "execute_result"
    }
   ],
   "source": [
    "for row in train.iloc:\n",
    "    text = row[\"text\"]\n",
    "    ents = row[\"ents\"]\n",
    "\n",
    "    token_start = 0\n",
    "\n",
    "    tokenized_text = bert_tokenizer(text).tokens()\n",
    "    no_special_tokens = tokenized_text[1:-1]\n",
    "    pure_tokens = []\n",
    "\n",
    "    for i, token in enumerate(no_special_tokens):\n",
    "        first_letter = token[0]\n",
    "\n",
    "        if first_letter == '#':\n",
    "            pure_token = token.strip('#')\n",
    "            combined_token = pure_tokens[-1] + pure_token\n",
    "            pure_tokens.pop()\n",
    "            pure_tokens.append(combined_token)\n",
    "\n",
    "        else:\n",
    "            pure_tokens.append(token)\n",
    "\n",
    "    \n",
    "    new_ents = []\n",
    "    for ent in ents:\n",
    "        if token in (\"[CLS]\", \"[SEP]\"):\n",
    "            # skip to next token\n",
    "            continue \n",
    "        if token.startswith(\"##\"):\n",
    "            token = token[2:]"
   ]
  },
  {
   "cell_type": "code",
   "execution_count": 41,
   "metadata": {},
   "outputs": [
    {
     "name": "stdout",
     "output_type": "stream",
     "text": [
      "['[CLS]', 'Vi', 'har', 'også', '360', 'grader', '##s', 'Private', 'Bank', '##ing', 'råd', '##gi', '##vning', 'til', 'form', '##uen', '##de', 'kunde', '##r', 'med', 'specialist', '##er', 'inden', '##for', 'ska', '##t', 'og', 'in', '##vest', '##ering', '[SEP]']\n",
      "['Vi', 'har', 'også', '360', 'grader', '##s', 'Private', 'Bank', '##ing', 'råd', '##gi', '##vning', 'til', 'form', '##uen', '##de', 'kunde', '##r', 'med', 'specialist', '##er', 'inden', '##for', 'ska', '##t', 'og', 'in', '##vest', '##ering']\n",
      "['Vi', 'har', 'også', '360', 'graders', 'Private', 'Banking', 'rådgivning', 'til', 'formuende', 'kunder', 'med', 'specialister', 'indenfor', 'skat', 'og', 'investering']\n"
     ]
    }
   ],
   "source": [
    "tokenized_text = bert_tokenizer(train['text'][3]).tokens()\n",
    "no_special_tokens = tokenized_text[1:-1]\n",
    "\n",
    "pure_tokens = []\n",
    "for i, token in enumerate(no_special_tokens):\n",
    "    first_letter = token[0]\n",
    "    if first_letter == '#':\n",
    "        pure_token = token.strip('#')\n",
    "        combined_token = pure_tokens[-1] + pure_token\n",
    "        pure_tokens.pop()\n",
    "        pure_tokens.append(combined_token)\n",
    "    else:\n",
    "        pure_tokens.append(token)"
   ]
  },
  {
   "cell_type": "code",
   "execution_count": 45,
   "metadata": {},
   "outputs": [
    {
     "ename": "SyntaxError",
     "evalue": "invalid syntax (2055908776.py, line 8)",
     "output_type": "error",
     "traceback": [
      "\u001b[0;36m  Cell \u001b[0;32mIn[45], line 8\u001b[0;36m\u001b[0m\n\u001b[0;31m    if count =\u001b[0m\n\u001b[0m             ^\u001b[0m\n\u001b[0;31mSyntaxError\u001b[0m\u001b[0;31m:\u001b[0m invalid syntax\n"
     ]
    }
   ],
   "source": [
    "ents = train['ents'][3]\n",
    "print(ents)\n",
    "ent = ents[0]\n",
    "print(ent)\n",
    "new_ents = []\n",
    "\n",
    "count = 0\n",
    "start = ent['start']\n",
    "end = ent['end']\n",
    "tag = ent['label']\n",
    "\n",
    "for token in pure_tokens:\n",
    "    new_ent_dict = {}\n",
    "    token_len = len(token)\n",
    "    new_count = count + token_len\n",
    "\n",
    "    if count == start and new_count <= end:\n",
    "        new_ent_dict['start'] = count\n",
    "        new_ent_dict['end'] = count + new_count\n",
    "        new_ent_dict['label'] = 'B-' + tag\n",
    "\n",
    "    elif count > start and new_count < end:\n",
    "        new_ent_dict['start'] = count\n",
    "        new_ent_dict['end'] = count + new_count\n",
    "        new_ent_dict['label'] = 'I-' + tag\n",
    "    \n",
    "    count += tok"
   ]
  },
  {
   "cell_type": "code",
   "execution_count": 40,
   "metadata": {},
   "outputs": [
    {
     "data": {
      "text/plain": [
       "['ko', 'hest']"
      ]
     },
     "execution_count": 40,
     "metadata": {},
     "output_type": "execute_result"
    }
   ],
   "source": [
    "for i in range(10):\n",
    "    for j in range(3):\n",
    "        if"
   ]
  }
 ],
 "metadata": {
  "kernelspec": {
   "display_name": "base",
   "language": "python",
   "name": "python3"
  },
  "language_info": {
   "codemirror_mode": {
    "name": "ipython",
    "version": 3
   },
   "file_extension": ".py",
   "mimetype": "text/x-python",
   "name": "python",
   "nbconvert_exporter": "python",
   "pygments_lexer": "ipython3",
   "version": "3.11.7"
  }
 },
 "nbformat": 4,
 "nbformat_minor": 2
}
