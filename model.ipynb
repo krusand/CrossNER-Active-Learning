{
 "cells": [
  {
   "cell_type": "code",
   "execution_count": 104,
   "metadata": {},
   "outputs": [],
   "source": [
    "num_labels = 19"
   ]
  },
  {
   "cell_type": "code",
   "execution_count": 105,
   "metadata": {},
   "outputs": [],
   "source": [
    "from transformers import BertTokenizer, AdamW, BertModel, BertPreTrainedModel\n",
    "\n",
    "from transformers import AutoConfig\n",
    "\n",
    "from tqdm import tqdm\n",
    "\n",
    "config = AutoConfig.from_pretrained(\"bert-base-multilingual-cased\")\n",
    "\n",
    "# tokenizer = BertTokenizer.from_pretrained('bert-base-multilingual-cased')\n",
    "# model = BertModel.from_pretrained(\"bert-base-multilingual-cased\")\n",
    "tokenizer = BertTokenizer.from_pretrained('bert-base-multilingual-cased')\n",
    "model = BertModel.from_pretrained(\"bert-base-multilingual-cased\")"
   ]
  },
  {
   "cell_type": "code",
   "execution_count": 109,
   "metadata": {},
   "outputs": [
    {
     "name": "stdout",
     "output_type": "stream",
     "text": [
      "['[CLS]', 'la', '##lala', '##la', '[SEP]']\n",
      "tensor([[ 0,  0, 18, 11,  0]])\n"
     ]
    },
    {
     "name": "stderr",
     "output_type": "stream",
     "text": [
      "100%|██████████| 100/100 [00:14<00:00,  6.78it/s]"
     ]
    },
    {
     "name": "stdout",
     "output_type": "stream",
     "text": [
      "tensor([[ 0,  0, 10, 10,  4]])\n"
     ]
    },
    {
     "name": "stderr",
     "output_type": "stream",
     "text": [
      "\n"
     ]
    }
   ],
   "source": [
    "import torch\n",
    "import torch.nn as nn\n",
    "from torch.nn import CrossEntropyLoss\n",
    "from transformers import BertModel,BertPreTrainedModel\n",
    "\n",
    "class BertSoftmaxForNer(BertPreTrainedModel):\n",
    "    def __init__(self, config,  num_labels, hidden_size):\n",
    "        super(BertSoftmaxForNer, self).__init__(config)\n",
    "        self.num_labels = num_labels\n",
    "        self.bert = BertModel.from_pretrained(\"bert-base-multilingual-cased\")\n",
    "        self.classifier = nn.Linear(hidden_size, num_labels)\n",
    "        self.softmax = nn.Softmax(dim=2)\n",
    "        # self.init_weights()\n",
    "\n",
    "    def forward(self, input_ids, attention_mask=None, token_type_ids=None,labels=None):\n",
    "        outputs = self.bert(input_ids = input_ids,attention_mask=attention_mask,token_type_ids=token_type_ids)\n",
    "        sequence_output = outputs[0]\n",
    "        class_probs = self.classifier(sequence_output)\n",
    "        class_probs = self.softmax(class_probs)\n",
    "        \n",
    "        loss_fct = CrossEntropyLoss(ignore_index=0)\n",
    "        # print(class_probs.view(-1, self.num_labels).shape)\n",
    "        # print(labels.shape)\n",
    "\n",
    "        loss = loss_fct(class_probs.view(-1, self.num_labels), labels)   \n",
    "\n",
    "        return (class_probs, loss)\n",
    "\n",
    "text = \"lalalala\"\n",
    "labels = torch.tensor([x for x in range(5)])\n",
    "\n",
    "tokens = tokenizer(text, return_tensors=\"pt\")\n",
    "\n",
    "ids = tokens.input_ids.tolist()\n",
    "print(tokenizer.convert_ids_to_tokens(ids[0], skip_special_tokens=False))\n",
    "\n",
    "model = BertSoftmaxForNer(config, 19, 768)\n",
    "prediction = model.forward(tokens.input_ids, labels=labels)\n",
    "\n",
    "prediction = model.forward(tokens.input_ids, labels=labels)\n",
    "print(torch.argmax(prediction[0], dim = 2))\n",
    "\n",
    "model.train()\n",
    "for i in tqdm(range(100)):\n",
    "    prediction = model.forward(tokens.input_ids, labels=labels)\n",
    "    prediction[1].backward()\n",
    "    \n",
    "\n",
    "prediction = model.forward(tokens.input_ids, labels=labels)\n",
    "print(torch.argmax(prediction[0], dim = 2))\n",
    "\n",
    "# print(prediction)"
   ]
  },
  {
   "cell_type": "code",
   "execution_count": null,
   "metadata": {},
   "outputs": [],
   "source": [
    "no_decay = [\"bias\", \"LayerNorm.weight\"]\n",
    "optimizer_grouped_parameters = [\n",
    "        {\"params\": [p for n, p in model.named_parameters() if not any(nd in n for nd in no_decay)],\n",
    "        \"weight_decay\": 0.0,},\n",
    "        {\"params\": [p for n, p in model.named_parameters() if any(nd in n for nd in no_decay)], \"weight_decay\": 0.0},\n",
    "    ]\n",
    "\n",
    "optimizer = AdamW(optimizer_grouped_parameters, lr=0.2, eps=1e-08)"
   ]
  }
 ],
 "metadata": {
  "kernelspec": {
   "display_name": "Python 3",
   "language": "python",
   "name": "python3"
  },
  "language_info": {
   "codemirror_mode": {
    "name": "ipython",
    "version": 3
   },
   "file_extension": ".py",
   "mimetype": "text/x-python",
   "name": "python",
   "nbconvert_exporter": "python",
   "pygments_lexer": "ipython3",
   "version": "3.10.5"
  }
 },
 "nbformat": 4,
 "nbformat_minor": 2
}
